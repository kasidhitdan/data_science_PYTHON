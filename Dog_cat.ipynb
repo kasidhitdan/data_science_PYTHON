{
 "cells": [
  {
   "cell_type": "markdown",
   "id": "69d01bb5",
   "metadata": {},
   "source": [
    "# Loading Libraries"
   ]
  },
  {
   "cell_type": "code",
   "execution_count": 1,
   "id": "db020be9",
   "metadata": {},
   "outputs": [
    {
     "name": "stdout",
     "output_type": "stream",
     "text": [
      "WARNING:tensorflow:From C:\\Users\\kasid\\anaconda3\\Lib\\site-packages\\keras\\src\\losses.py:2976: The name tf.losses.sparse_softmax_cross_entropy is deprecated. Please use tf.compat.v1.losses.sparse_softmax_cross_entropy instead.\n",
      "\n",
      "2.15.0\n"
     ]
    }
   ],
   "source": [
    "import matplotlib.pyplot as plt\n",
    "import numpy as np\n",
    "import os\n",
    "from os import makedirs\n",
    "from os import listdir \n",
    "from matplotlib.image import imread\n",
    "import PIL\n",
    "import tensorflow as tf\n",
    "import pandas as pd\n",
    "\n",
    "# Scikit-learn\n",
    "from sklearn.model_selection import train_test_split\n",
    "from sklearn.metrics import classification_report,confusion_matrix,ConfusionMatrixDisplay\n",
    "\n",
    "# Tensorflow\n",
    "import tensorflow as tf\n",
    "from tensorflow import keras\n",
    "from tensorflow.keras import layers\n",
    "from tensorflow.keras.models import Sequential \n",
    "from tensorflow.keras.preprocessing.image import ImageDataGenerator\n",
    "from tensorflow.keras.layers import Dense,MaxPooling2D,Dropout,Flatten,BatchNormalization,Conv2D\n",
    "from tensorflow.keras.callbacks import EarlyStopping, ModelCheckpoint, ReduceLROnPlateau, LearningRateScheduler\n",
    "\n",
    "print(tf.__version__)"
   ]
  },
  {
   "cell_type": "markdown",
   "id": "446e14bf",
   "metadata": {},
   "source": [
    "# Data Extraction"
   ]
  },
  {
   "cell_type": "code",
   "execution_count": 114,
   "id": "eeae22d4",
   "metadata": {},
   "outputs": [],
   "source": [
    "files = 'PetImages.zip'\n",
    "photo = 'photo/'"
   ]
  },
  {
   "cell_type": "code",
   "execution_count": 115,
   "id": "7c5fd70c",
   "metadata": {},
   "outputs": [
    {
     "name": "stdout",
     "output_type": "stream",
     "text": [
      "File Size: 824863963 bytes\n",
      "File Type: .zip\n"
     ]
    }
   ],
   "source": [
    "# Check if the file exists\n",
    "if os.path.exists(files):\n",
    "    # Get the file size\n",
    "    file_size = os.path.getsize(files)\n",
    "    print(f\"File Size: {file_size} bytes\")\n",
    "    \n",
    "    # Check the file type\n",
    "    file_type = os.path.splitext(files)[1]\n",
    "    print(f\"File Type: {file_type}\")\n",
    "else:\n",
    "    # If the file does not exist, print an error message\n",
    "    print(\"File does not exist.\")"
   ]
  },
  {
   "cell_type": "code",
   "execution_count": 6,
   "id": "8e997c92",
   "metadata": {},
   "outputs": [
    {
     "name": "stdout",
     "output_type": "stream",
     "text": [
      "Extraction successful.\n"
     ]
    }
   ],
   "source": [
    "import zipfile\n",
    "\n",
    "try:\n",
    "    # Open the zip file in read mode\n",
    "    with zipfile.ZipFile(files, 'r') as zipp:\n",
    "        # Extract all contents of the zip file to the specified directory\n",
    "        zipp.extractall(photo)\n",
    "    # Print a success message if extraction is successful\n",
    "    print(\"Extraction successful.\")\n",
    "except zipfile.BadZipFile:\n",
    "    # Handle the error if the file is not a valid zip file or it is corrupted\n",
    "    print(\"Error: The file is not a valid zip file or it is corrupted.\")"
   ]
  },
  {
   "cell_type": "code",
   "execution_count": 5,
   "id": "a53d0948",
   "metadata": {},
   "outputs": [],
   "source": [
    "# Define your dataset folder path\n",
    "dataset_path = 'photo/PetImages'"
   ]
  },
  {
   "cell_type": "code",
   "execution_count": 6,
   "id": "dd6af125",
   "metadata": {},
   "outputs": [],
   "source": [
    "# Function to check if an image file is valid\n",
    "from PIL import Image\n",
    "def is_valid_image(file_path):\n",
    "    try:\n",
    "        # Open and check if the image can be loaded\n",
    "        Image.open(file_path)\n",
    "        return True\n",
    "    except (IOError, SyntaxError):\n",
    "        # Invalid image file\n",
    "        return False"
   ]
  },
  {
   "cell_type": "code",
   "execution_count": 7,
   "id": "e5e9eeca",
   "metadata": {},
   "outputs": [
    {
     "name": "stderr",
     "output_type": "stream",
     "text": [
      "C:\\Users\\kasid\\anaconda3\\Lib\\site-packages\\PIL\\TiffImagePlugin.py:858: UserWarning: Truncated File Read\n",
      "  warnings.warn(str(msg))\n"
     ]
    }
   ],
   "source": [
    "# Initialize empty lists to store file paths and labels\n",
    "file_paths = []\n",
    "labels = []\n",
    "\n",
    "# Loop through each label (Cat and Dog) to filter out valid images\n",
    "for label in ['Cat', 'Dog']:\n",
    "    # Construct the path to the label's folder\n",
    "    label_folder = os.path.join(dataset_path, label)\n",
    "    \n",
    "    # Loop through each file in the label's folder\n",
    "    for file_name in os.listdir(label_folder):\n",
    "        # Construct the full file path\n",
    "        file_path = os.path.join(label_folder, file_name)\n",
    "        \n",
    "        # Check if the file is a valid image\n",
    "        if is_valid_image(file_path):\n",
    "            # If valid, append the file path to the file_paths list\n",
    "            file_paths.append(file_path)\n",
    "            \n",
    "            # Append the corresponding label (as a string) to the labels list\n",
    "            labels.append('Cat' if label == 'Cat' else 'Dog')\n",
    "\n",
    "# Convert lists to numpy arrays\n",
    "file_paths = np.array(file_paths)\n",
    "labels = np.array(labels)"
   ]
  },
  {
   "cell_type": "markdown",
   "id": "98e222ad",
   "metadata": {},
   "source": [
    "# split dataset "
   ]
  },
  {
   "cell_type": "code",
   "execution_count": 91,
   "id": "f554faca",
   "metadata": {},
   "outputs": [],
   "source": [
    "# Split the data into training and testing+validation sets\n",
    "X_train, X, y_train, y  = train_test_split(\n",
    "    file_paths, labels, test_size=0.4, random_state=99, stratify=labels)"
   ]
  },
  {
   "cell_type": "code",
   "execution_count": 92,
   "id": "83b9920b",
   "metadata": {},
   "outputs": [],
   "source": [
    "# Split the data into validation and testing sets\n",
    "X_test, X_validation, y_test, y_validation = train_test_split(\n",
    "    X, y, test_size=0.5, random_state=99, stratify=y)"
   ]
  },
  {
   "cell_type": "markdown",
   "id": "8e39f57c",
   "metadata": {},
   "source": [
    "# Data Generator"
   ]
  },
  {
   "cell_type": "code",
   "execution_count": 93,
   "id": "8406ecf4",
   "metadata": {},
   "outputs": [
    {
     "name": "stdout",
     "output_type": "stream",
     "text": [
      "Found 14998 validated image filenames belonging to 2 classes.\n",
      "Found 5000 validated image filenames belonging to 2 classes.\n",
      "Found 5000 validated image filenames belonging to 2 classes.\n"
     ]
    }
   ],
   "source": [
    "train_gen = ImageDataGenerator(rescale=1./255)\n",
    "train_generator = train_gen.flow_from_dataframe(\n",
    "    dataframe=pd.DataFrame({'filename': X_train, 'class': y_train}),\n",
    "    x_col='filename',\n",
    "    y_col='class',\n",
    "    target_size=(32,32),  # adjust target_size as needed\n",
    "    batch_size=64,\n",
    "    class_mode='categorical',  # binary classification\n",
    "    shuffle=True)\n",
    "\n",
    "test_gen = ImageDataGenerator(rescale=1./255)\n",
    "test_generator = test_gen.flow_from_dataframe(\n",
    "    dataframe=pd.DataFrame({'filename': X_test, 'class': y_test}),\n",
    "    x_col='filename',\n",
    "    y_col='class',\n",
    "    target_size=(32,32),  # adjust target_size as needed\n",
    "    batch_size=64,\n",
    "    class_mode='categorical',  # binary classification\n",
    "    shuffle=False)\n",
    "\n",
    "val_gen = ImageDataGenerator(rescale=1./255)\n",
    "val_generator = val_gen.flow_from_dataframe(\n",
    "    dataframe=pd.DataFrame({'filename': X_validation, 'class': y_validation}),\n",
    "    x_col='filename',\n",
    "    y_col='class',\n",
    "    target_size=(32,32),  # adjust target_size as needed\n",
    "    batch_size=64,\n",
    "    class_mode='categorical',  # binary classification\n",
    "    shuffle=False)"
   ]
  },
  {
   "cell_type": "code",
   "execution_count": 94,
   "id": "fd23e88f",
   "metadata": {},
   "outputs": [
    {
     "name": "stdout",
     "output_type": "stream",
     "text": [
      "[1. 0.]\n"
     ]
    }
   ],
   "source": [
    "for batch in test_generator:\n",
    "    # Extract the first image and label from the batch\n",
    "    image = batch[0][0]  # First image in the batch\n",
    "    label = batch[1][0]  # Corresponding label\n",
    "\n",
    "    # Print the label (0 for Cat, 1 for Dog)\n",
    "    print(label)\n",
    "    \n",
    "    break"
   ]
  },
  {
   "cell_type": "code",
   "execution_count": 95,
   "id": "9323e401",
   "metadata": {},
   "outputs": [
    {
     "name": "stdout",
     "output_type": "stream",
     "text": [
      "Class 0 is mapped to 'Cat'\n",
      "Class 1 is mapped to 'Dog'\n"
     ]
    }
   ],
   "source": [
    "class_indices = test_generator.class_indices\n",
    "\n",
    "# Invert the dictionary to map indices to class names\n",
    "class_names_mapping = {v: k for k, v in class_indices.items()}\n",
    "\n",
    "# Check which class is mapped to class 0 and which to class 1\n",
    "class_0 = class_names_mapping[0]\n",
    "class_1 = class_names_mapping[1]\n",
    "\n",
    "print(f\"Class 0 is mapped to '{class_0}'\")\n",
    "print(f\"Class 1 is mapped to '{class_1}'\")"
   ]
  },
  {
   "cell_type": "markdown",
   "id": "96ba807c",
   "metadata": {},
   "source": [
    "# Deep Learning Model"
   ]
  },
  {
   "cell_type": "code",
   "execution_count": 96,
   "id": "2459b953",
   "metadata": {},
   "outputs": [],
   "source": [
    "# callbacks\n",
    "model_checkpoint_cb1 = ModelCheckpoint('model_scratch/woaugment', monitor='val_loss',save_best_only=True, save_weights_only=True)\n",
    "learning_rate_reduction = ReduceLROnPlateau(monitor = 'val_accuracy',\n",
    "                                            patience=2,\n",
    "                                            factor=0.5,\n",
    "                                            min_lr = 0.00001,\n",
    "                                            verbose = 1)\n",
    "early_stoping = EarlyStopping(monitor='val_loss',patience= 5,restore_best_weights=True,verbose=0)"
   ]
  },
  {
   "cell_type": "code",
   "execution_count": 99,
   "id": "a1373fa6",
   "metadata": {},
   "outputs": [],
   "source": [
    "# training from scratch\n",
    "def build_model_scratch1():\n",
    "    model = Sequential()\n",
    "  # change the input shape here\n",
    "    model.add(Conv2D(filters=32,kernel_size=3,padding='same',activation='relu',input_shape=(32,32,3)))\n",
    "    model.add(BatchNormalization())\n",
    "    model.add(Dropout(0.3))\n",
    "\n",
    "    model.add(Conv2D(filters=32,kernel_size=3,padding='same',activation='relu'))\n",
    "    model.add(MaxPooling2D(pool_size=2))\n",
    "    model.add(BatchNormalization())\n",
    "    model.add(Dropout(0.3))\n",
    "\n",
    "    model.add(Conv2D(filters=64,kernel_size=3,padding='same',activation='relu'))\n",
    "    model.add(BatchNormalization())\n",
    "    model.add(Dropout(0.3))\n",
    "    model.add(Conv2D(filters=64,kernel_size=3,padding='same',activation='relu'))\n",
    "    model.add(MaxPooling2D(pool_size=2))\n",
    "    model.add(BatchNormalization())\n",
    "    model.add(Dropout(0.3))\n",
    "\n",
    "    model.add(Flatten())\n",
    "    model.add(BatchNormalization())\n",
    "    model.add(Dense(128, activation='relu'))\n",
    "    model.add(BatchNormalization())\n",
    "    model.add(Dropout(0.3))\n",
    "  # change this to binary label\n",
    "    model.add(Dense(2, activation='softmax'))\n",
    "\n",
    "    return model\n",
    "#model.summary()"
   ]
  },
  {
   "cell_type": "markdown",
   "id": "508e659b",
   "metadata": {},
   "source": [
    "# Fit the model"
   ]
  },
  {
   "cell_type": "code",
   "execution_count": 100,
   "id": "e77591fd",
   "metadata": {},
   "outputs": [
    {
     "name": "stdout",
     "output_type": "stream",
     "text": [
      "Epoch 1/20\n",
      " 55/235 [======>.......................] - ETA: 25s - loss: 1.0080 - accuracy: 0.5688"
     ]
    },
    {
     "name": "stderr",
     "output_type": "stream",
     "text": [
      "C:\\Users\\kasid\\anaconda3\\Lib\\site-packages\\PIL\\TiffImagePlugin.py:858: UserWarning: Truncated File Read\n",
      "  warnings.warn(str(msg))\n"
     ]
    },
    {
     "name": "stdout",
     "output_type": "stream",
     "text": [
      "235/235 [==============================] - 45s 184ms/step - loss: 0.7692 - accuracy: 0.6229 - val_loss: 0.6869 - val_accuracy: 0.5290 - lr: 0.0010\n",
      "Epoch 2/20\n",
      "235/235 [==============================] - 37s 159ms/step - loss: 0.5926 - accuracy: 0.6882 - val_loss: 0.6891 - val_accuracy: 0.5992 - lr: 0.0010\n",
      "Epoch 3/20\n",
      "235/235 [==============================] - 38s 160ms/step - loss: 0.5397 - accuracy: 0.7242 - val_loss: 0.5128 - val_accuracy: 0.7420 - lr: 0.0010\n",
      "Epoch 4/20\n",
      "235/235 [==============================] - 37s 159ms/step - loss: 0.5014 - accuracy: 0.7546 - val_loss: 0.6925 - val_accuracy: 0.6470 - lr: 0.0010\n",
      "Epoch 5/20\n",
      "235/235 [==============================] - 37s 159ms/step - loss: 0.4732 - accuracy: 0.7688 - val_loss: 0.4923 - val_accuracy: 0.7732 - lr: 0.0010\n",
      "Epoch 6/20\n",
      "235/235 [==============================] - 37s 159ms/step - loss: 0.4605 - accuracy: 0.7786 - val_loss: 0.4641 - val_accuracy: 0.7814 - lr: 0.0010\n",
      "Epoch 7/20\n",
      "235/235 [==============================] - 46s 198ms/step - loss: 0.4403 - accuracy: 0.7954 - val_loss: 0.4298 - val_accuracy: 0.8064 - lr: 0.0010\n",
      "Epoch 8/20\n",
      "235/235 [==============================] - 42s 178ms/step - loss: 0.4168 - accuracy: 0.8062 - val_loss: 0.4407 - val_accuracy: 0.7966 - lr: 0.0010\n",
      "Epoch 9/20\n",
      "235/235 [==============================] - 39s 166ms/step - loss: 0.4043 - accuracy: 0.8113 - val_loss: 0.4195 - val_accuracy: 0.8140 - lr: 0.0010\n",
      "Epoch 10/20\n",
      "235/235 [==============================] - 46s 197ms/step - loss: 0.3907 - accuracy: 0.8256 - val_loss: 0.4276 - val_accuracy: 0.7992 - lr: 0.0010\n",
      "Epoch 11/20\n",
      "235/235 [==============================] - 40s 169ms/step - loss: 0.3685 - accuracy: 0.8340 - val_loss: 0.3980 - val_accuracy: 0.8190 - lr: 0.0010\n",
      "Epoch 12/20\n",
      "235/235 [==============================] - 38s 163ms/step - loss: 0.3574 - accuracy: 0.8405 - val_loss: 0.4143 - val_accuracy: 0.8088 - lr: 0.0010\n",
      "Epoch 13/20\n",
      "235/235 [==============================] - ETA: 0s - loss: 0.3331 - accuracy: 0.8526\n",
      "Epoch 13: ReduceLROnPlateau reducing learning rate to 0.0005000000237487257.\n",
      "235/235 [==============================] - 39s 164ms/step - loss: 0.3331 - accuracy: 0.8526 - val_loss: 0.5516 - val_accuracy: 0.7646 - lr: 0.0010\n",
      "Epoch 14/20\n",
      "235/235 [==============================] - 38s 162ms/step - loss: 0.3014 - accuracy: 0.8697 - val_loss: 0.3809 - val_accuracy: 0.8342 - lr: 5.0000e-04\n",
      "Epoch 15/20\n",
      "235/235 [==============================] - 38s 160ms/step - loss: 0.2806 - accuracy: 0.8799 - val_loss: 0.4092 - val_accuracy: 0.8256 - lr: 5.0000e-04\n",
      "Epoch 16/20\n",
      "235/235 [==============================] - ETA: 0s - loss: 0.2785 - accuracy: 0.8816\n",
      "Epoch 16: ReduceLROnPlateau reducing learning rate to 0.0002500000118743628.\n",
      "235/235 [==============================] - 38s 160ms/step - loss: 0.2785 - accuracy: 0.8816 - val_loss: 0.4170 - val_accuracy: 0.8166 - lr: 5.0000e-04\n",
      "Epoch 17/20\n",
      "235/235 [==============================] - 38s 160ms/step - loss: 0.2434 - accuracy: 0.8976 - val_loss: 0.3800 - val_accuracy: 0.8358 - lr: 2.5000e-04\n",
      "Epoch 18/20\n",
      "235/235 [==============================] - 38s 160ms/step - loss: 0.2383 - accuracy: 0.8999 - val_loss: 0.3757 - val_accuracy: 0.8374 - lr: 2.5000e-04\n",
      "Epoch 19/20\n",
      "235/235 [==============================] - 37s 160ms/step - loss: 0.2311 - accuracy: 0.9056 - val_loss: 0.3861 - val_accuracy: 0.8322 - lr: 2.5000e-04\n",
      "Epoch 20/20\n",
      "235/235 [==============================] - ETA: 0s - loss: 0.2144 - accuracy: 0.9105\n",
      "Epoch 20: ReduceLROnPlateau reducing learning rate to 0.0001250000059371814.\n",
      "235/235 [==============================] - 38s 160ms/step - loss: 0.2144 - accuracy: 0.9105 - val_loss: 0.4001 - val_accuracy: 0.8320 - lr: 2.5000e-04\n"
     ]
    }
   ],
   "source": [
    "# train without data augmentation\n",
    "model = build_model_scratch1()\n",
    "optimizer = tf.keras.optimizers.Adam(learning_rate=0.001)\n",
    "model.compile(optimizer=optimizer, loss='categorical_crossentropy', metrics=['accuracy'])\n",
    "\n",
    "history = model.fit(train_generator, epochs=20, validation_data=val_generator, verbose=1,\n",
    "                    callbacks=[model_checkpoint_cb1,learning_rate_reduction])"
   ]
  },
  {
   "cell_type": "markdown",
   "id": "db5bf6d6",
   "metadata": {},
   "source": [
    "# Plot learning curves"
   ]
  },
  {
   "cell_type": "code",
   "execution_count": 101,
   "id": "d42ff243",
   "metadata": {},
   "outputs": [
    {
     "data": {
      "image/png": "[encoded data removed]",
      "text/plain": [
       "<Figure size 640x480 with 1 Axes>"
      ]
     },
     "metadata": {},
     "output_type": "display_data"
    }
   ],
   "source": [
    "#plot the learning curves\n",
    "plt.plot(history.history['loss'], label = 'loss')\n",
    "plt.plot(history.history['val_loss'], label = 'val_loss')\n",
    "plt.plot(history.history['accuracy'], label = 'acc')\n",
    "plt.plot(history.history['val_accuracy'], label = 'val_acc')\n",
    "plt.title('Loss, Accuracy vs Epochs')\n",
    "plt.xlabel(\"Epochs\")\n",
    "plt.ylabel(\"Accuracy\")\n",
    "plt.legend()\n",
    "plt.show()"
   ]
  },
  {
   "cell_type": "markdown",
   "id": "de88e1bd",
   "metadata": {},
   "source": [
    "# Evaluvation"
   ]
  },
  {
   "cell_type": "code",
   "execution_count": 102,
   "id": "d35992a8",
   "metadata": {},
   "outputs": [
    {
     "name": "stdout",
     "output_type": "stream",
     "text": [
      "79/79 [==============================] - 11s 136ms/step - loss: 0.4159 - accuracy: 0.8328\n",
      "test_oss: 0.4158506393432617\n",
      "test_acc: 0.8327999711036682\n"
     ]
    }
   ],
   "source": [
    "# test set\n",
    "loss, acc = model.evaluate(test_generator)\n",
    "print('test_oss:', loss)\n",
    "print('test_acc:', acc)"
   ]
  },
  {
   "cell_type": "code",
   "execution_count": 106,
   "id": "6408a6ea",
   "metadata": {},
   "outputs": [
    {
     "data": {
      "image/png": "[encoded data removed]",
      "text/plain": [
       "<Figure size 640x480 with 1 Axes>"
      ]
     },
     "metadata": {},
     "output_type": "display_data"
    },
    {
     "name": "stdout",
     "output_type": "stream",
     "text": [
      "1/1 [==============================] - 0s 20ms/step\n",
      "Predictions: [[1. 0.]]\n",
      "Predicted class: cat\n"
     ]
    }
   ],
   "source": [
    "img_path = 'cat1.jpg'  # Path to your image\n",
    "img = keras.utils.load_img(img_path, target_size=(32, 32))  # Adjust target_size to match your model input size\n",
    "img_array = keras.utils.img_to_array(img)\n",
    "\n",
    "# Display the image\n",
    "plt.imshow(img_array / 255)\n",
    "plt.show()\n",
    "\n",
    "# Reshape the image for the model\n",
    "img_array = img_array.reshape((1, img_array.shape[0], img_array.shape[1], img_array.shape[2]))\n",
    "\n",
    "# Preprocess the image (BGR and zero-centered)\n",
    "img_array = keras.applications.resnet.preprocess_input(img_array)\n",
    "\n",
    "# Predict using the model\n",
    "predictions = model.predict(img_array)\n",
    "\n",
    "# Output the predictions\n",
    "print(\"Predictions:\", predictions)\n",
    "\n",
    "# Convert predictions to class labels\n",
    "class_labels = ['cat', 'dog']  # Adjust this list based on your model's class order\n",
    "predicted_class = class_labels[np.argmax(predictions)]\n",
    "print(\"Predicted class:\", predicted_class)"
   ]
  },
  {
   "cell_type": "code",
   "execution_count": 107,
   "id": "7a6aed9c",
   "metadata": {},
   "outputs": [],
   "source": [
    "result = model.predict(test_generator,batch_size = 64,verbose = 0)\n",
    "\n",
    "y_pred = np.argmax(result, axis = 1)\n",
    "\n",
    "y_true = test_generator.labels"
   ]
  },
  {
   "cell_type": "code",
   "execution_count": 110,
   "id": "8ede48aa",
   "metadata": {},
   "outputs": [],
   "source": [
    "cm = confusion_matrix(y_true,y_pred) \n",
    "\n",
    "cm_df = pd.DataFrame(cm,\n",
    "                     index = ['cat','dog'], \n",
    "                     columns = ['cat','dog'])"
   ]
  },
  {
   "cell_type": "code",
   "execution_count": 113,
   "id": "d7f993d4",
   "metadata": {},
   "outputs": [
    {
     "name": "stderr",
     "output_type": "stream",
     "text": [
      "C:\\Users\\kasid\\AppData\\Local\\Temp\\ipykernel_27088\\2291354439.py:3: FutureWarning: Support for multi-dimensional indexing (e.g. `obj[:, None]`) is deprecated and will be removed in a future version.  Convert to a numpy array before indexing instead.\n",
      "  cm_percentage = cm_df / cm_df.sum(axis=1)[:, np.newaxis] * 100\n"
     ]
    },
    {
     "data": {
      "image/png": "[encoded data removed]",
      "text/plain": [
       "<Figure size 1000x900 with 1 Axes>"
      ]
     },
     "metadata": {},
     "output_type": "display_data"
    }
   ],
   "source": [
    "import seaborn as sns\n",
    "# Calculate the percentage annotations\n",
    "cm_percentage = cm_df / cm_df.sum(axis=1)[:, np.newaxis] * 100\n",
    "\n",
    "# Create a custom annotation format function\n",
    "def annot_format(value, percentage):\n",
    "    return f'{int(value)}\\n({percentage:.1f}%)'\n",
    "\n",
    "# Create the annotations with integer values and percentages\n",
    "annot = np.array([[annot_format(cm_df.iloc[i, j], cm_percentage.iloc[i, j]) for j in range(cm_df.shape[1])] for i in range(cm_df.shape[0])])\n",
    "\n",
    "plt.figure(figsize=(10, 9))\n",
    "sns.heatmap(cm_df, annot=annot, fmt='', cmap='Blues', cbar=False)\n",
    "plt.title('Confusion Matrix')\n",
    "plt.ylabel('Actual Values')\n",
    "plt.xlabel('Predicted Values')\n",
    "plt.show()"
   ]
  }
 ],
 "metadata": {
  "kernelspec": {
   "display_name": "Python 3 (ipykernel)",
   "language": "python",
   "name": "python3"
  },
  "language_info": {
   "codemirror_mode": {
    "name": "ipython",
    "version": 3
   },
   "file_extension": ".py",
   "mimetype": "text/x-python",
   "name": "python",
   "nbconvert_exporter": "python",
   "pygments_lexer": "ipython3",
   "version": "3.11.3"
  }
 },
 "nbformat": 4,
 "nbformat_minor": 5
}
